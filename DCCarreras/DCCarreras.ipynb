{
  "cells": [
    {
      "cell_type": "markdown",
      "metadata": {
        "id": "n6Ilm4pRzQHe"
      },
      "source": [
        "# Importar Librerías"
      ]
    },
    {
      "cell_type": "code",
      "execution_count": null,
      "metadata": {
        "id": "NymMDgH0zlAO"
      },
      "outputs": [],
      "source": [
        "# # CARGAR API FastF1\n",
        "# from IPython.display import clear_output\n",
        "# # https://docs.fastf1.dev/\n",
        "# !pip install fastf1\n",
        "\n",
        "# clear_output()"
      ]
    },
    {
      "cell_type": "code",
      "execution_count": null,
      "metadata": {
        "id": "zRNGDsUSoC-C"
      },
      "outputs": [],
      "source": [
        "# import fastf1\n",
        "\n",
        "# schedule = fastf1.get_event_schedule(2025)\n",
        "# print(schedule[[\"EventName\"]])"
      ]
    },
    {
      "cell_type": "code",
      "execution_count": null,
      "metadata": {
        "id": "ovFf0WZNzq3s"
      },
      "outputs": [],
      "source": [
        "import pandas as pd\n",
        "import seaborn as sns\n",
        "import numpy as np\n",
        "import matplotlib.pyplot as plt\n",
        "import os"
      ]
    },
    {
      "cell_type": "markdown",
      "metadata": {
        "id": "WoCkYktVzTE9"
      },
      "source": [
        "# Carga de Datos"
      ]
    },
    {
      "cell_type": "code",
      "execution_count": null,
      "metadata": {
        "id": "9a3yFwo1zw8a"
      },
      "outputs": [],
      "source": [
        "df = pd.read_csv(\"races.csv\")\n",
        "df.head()"
      ]
    },
    {
      "cell_type": "markdown",
      "metadata": {
        "id": "7n7JBOhrkHZA"
      },
      "source": [
        "# Estudio de Datos"
      ]
    },
    {
      "cell_type": "code",
      "execution_count": null,
      "metadata": {
        "id": "rexBybgfkIiB"
      },
      "outputs": [],
      "source": []
    },
    {
      "cell_type": "markdown",
      "metadata": {
        "id": "E30XV1dGkSUO"
      },
      "source": [
        "# División de Datos"
      ]
    },
    {
      "cell_type": "markdown",
      "metadata": {
        "id": "Z0wtNHlRkVq1"
      },
      "source": [
        "# Preprocesamiento de Datos"
      ]
    },
    {
      "cell_type": "markdown",
      "metadata": {
        "id": "AV0YefZQkYpE"
      },
      "source": [
        "# Entrenamiento de Modelos"
      ]
    },
    {
      "cell_type": "markdown",
      "metadata": {
        "id": "-mYiiQ7RkgFQ"
      },
      "source": [
        "# Análisis de Resultados"
      ]
    },
    {
      "cell_type": "markdown",
      "metadata": {
        "id": "4jFczX25kl4j"
      },
      "source": [
        "# Bonus"
      ]
    },
    {
      "cell_type": "markdown",
      "metadata": {
        "id": "DqR6tPsHknoz"
      },
      "source": [
        "## Enriquecimiento de Datos"
      ]
    },
    {
      "cell_type": "markdown",
      "metadata": {
        "id": "QTHk7xtAk0Os"
      },
      "source": [
        "La API FastF1 contiene muchos enpoints, con una gran cantidad de datos describiendo a detalle cada sesión. Investiga en la documentación y extrae información que consideres relevante. Con estos nuevos datos entrena un nuevo modelo y análisa sus resultados."
      ]
    },
    {
      "cell_type": "code",
      "execution_count": null,
      "metadata": {
        "id": "68M4x4TAneM8"
      },
      "outputs": [],
      "source": [
        "# RECUERDA IMPORTAR LAS LIBRERÍAS"
      ]
    },
    {
      "cell_type": "markdown",
      "metadata": {
        "id": "7bOHTI9Nktzj"
      },
      "source": [
        "## Bonus: GP BRASIL"
      ]
    },
    {
      "cell_type": "code",
      "execution_count": null,
      "metadata": {
        "id": "QeUCkCnIkVQ-"
      },
      "outputs": [],
      "source": [
        "def ensure_dir(path):\n",
        "    os.makedirs(path, exist_ok=True)\n",
        "\n",
        "def extract_session_data(year, gp_name, session_type):\n",
        "    \"\"\"Descarga una sesión específica (P1, P2, P3, Q, S, R)\"\"\"\n",
        "    try:\n",
        "        session = fastf1.get_session(year, gp_name, session_type)\n",
        "        session.load(laps=True, telemetry=True, weather=True, messages=False)\n",
        "        folder = f\"data/{year}_{gp_name}/{session.name}\"\n",
        "        ensure_dir(folder)\n",
        "        # Guardar resultados generales\n",
        "        session.results.to_csv(f\"{folder}/results.csv\", index=False)\n",
        "        print(f\"✅ {year} - {gp_name} - {session.name} completado\")\n",
        "        return True\n",
        "\n",
        "    except Exception as e:\n",
        "        print(f\"❌ Error en {year} - {gp_name} - {session_type}: {e}\")\n",
        "        return False"
      ]
    },
    {
      "cell_type": "code",
      "execution_count": null,
      "metadata": {
        "id": "HEu85wWMkyeV"
      },
      "outputs": [],
      "source": [
        "year = 2025\n",
        "gp_name = \"São Paulo Grand Prix\"\n",
        "for session_type in [\"FP1\", \"FP2\", \"FP3\", \"Qualifying\"]: # OJO: En esta carrera no hay 3 sesiones de práctica, así que estos datos saldrán nulos\n",
        "    extract_session_data(year, gp_name, session_type)"
      ]
    },
    {
      "cell_type": "code",
      "execution_count": null,
      "metadata": {
        "id": "BPAnW3glmvte"
      },
      "outputs": [],
      "source": []
    }
  ],
  "metadata": {
    "colab": {
      "provenance": []
    },
    "kernelspec": {
      "display_name": "Python 3",
      "name": "python3"
    },
    "language_info": {
      "name": "python"
    }
  },
  "nbformat": 4,
  "nbformat_minor": 0
}
